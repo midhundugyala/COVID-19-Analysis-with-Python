{
 "cells": [
  {
   "cell_type": "code",
   "execution_count": null,
   "metadata": {},
   "outputs": [],
   "source": [
    "import pandas as pd \n",
    "import numpy as np \n",
    "import folium\n",
    "from folium.plugins import HeatMap\n",
    "\n",
    "df = pd.read_csv(\"dataset.csv\")\n",
    "m = folium.Map(tiles = 'Stamen Terrain',min_zoom = 1.5)\n",
    "display(m)"
   ]
  },
  {
   "cell_type": "code",
   "execution_count": null,
   "metadata": {},
   "outputs": [],
   "source": [
    "url = 'https://raw.githubusercontent.com/python-visualization/folium/master/examples/data'\n",
    "country_shapes = f'{url}/world-countries.json'\n",
    "folium.Choropleth(\n",
    "    geo_data = country_shapes,\n",
    "    min_zoom=2,\n",
    "    name='Covid-19',\n",
    "    data=df,\n",
    "    columns=['Country', 'Confirmed'],\n",
    "    key_on='feature.properties.name',\n",
    "    fill_color='OrRd',\n",
    "    nan_fill_color='black',\n",
    "    legend_name = 'Total Confirmed COVID cases',\n",
    ").add_to(m)\n",
    "m"
   ]
  },
  {
   "cell_type": "code",
   "execution_count": null,
   "metadata": {},
   "outputs": [],
   "source": [
    "def plotDot(point):\n",
    "    folium.CircleMarker(location = (point.latitude, point.longitude),\n",
    "                       radius = 5,\n",
    "                       weight = 2,\n",
    "                       popup = [point.Country, point.Confirmed, point.Recovered],\n",
    "                       fill_color = '#000000').add_to(m)\n",
    "covid_df.apply(plotDot, axis = 1)\n",
    "m.fit_bounds(m.get_bounds())\n",
    "m"
   ]
  }
 ],
 "metadata": {
  "kernelspec": {
   "display_name": "Python 3",
   "language": "python",
   "name": "python3"
  },
  "language_info": {
   "codemirror_mode": {
    "name": "ipython",
    "version": 3
   },
   "file_extension": ".py",
   "mimetype": "text/x-python",
   "name": "python",
   "nbconvert_exporter": "python",
   "pygments_lexer": "ipython3",
   "version": "3.7.1"
  }
 },
 "nbformat": 4,
 "nbformat_minor": 2
}
